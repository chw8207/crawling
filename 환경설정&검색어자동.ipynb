{
 "cells": [
  {
   "cell_type": "code",
   "execution_count": 2,
   "metadata": {},
   "outputs": [
    {
     "name": "stdout",
     "output_type": "stream",
     "text": [
      "Collecting selenium\n",
      "  Using cached selenium-4.10.0-py3-none-any.whl (6.7 MB)\n",
      "Requirement already satisfied: urllib3[socks]<3,>=1.26 in c:\\users\\lg\\appdata\\local\\programs\\python\\python39\\lib\\site-packages (from selenium) (1.26.16)\n",
      "Collecting trio~=0.17 (from selenium)\n",
      "  Using cached trio-0.22.1-py3-none-any.whl (399 kB)\n",
      "Collecting trio-websocket~=0.9 (from selenium)\n",
      "  Using cached trio_websocket-0.10.3-py3-none-any.whl (17 kB)\n",
      "Requirement already satisfied: certifi>=2021.10.8 in c:\\users\\lg\\appdata\\local\\programs\\python\\python39\\lib\\site-packages (from selenium) (2023.5.7)\n",
      "Collecting attrs>=20.1.0 (from trio~=0.17->selenium)\n",
      "  Downloading attrs-23.1.0-py3-none-any.whl (61 kB)\n",
      "                                              0.0/61.2 kB ? eta -:--:--\n",
      "     ---------------------------------------- 61.2/61.2 kB 3.2 MB/s eta 0:00:00\n",
      "Collecting sortedcontainers (from trio~=0.17->selenium)\n",
      "  Downloading sortedcontainers-2.4.0-py2.py3-none-any.whl (29 kB)\n",
      "Requirement already satisfied: idna in c:\\users\\lg\\appdata\\local\\programs\\python\\python39\\lib\\site-packages (from trio~=0.17->selenium) (3.4)\n",
      "Collecting outcome (from trio~=0.17->selenium)\n",
      "  Using cached outcome-1.2.0-py2.py3-none-any.whl (9.7 kB)\n",
      "Collecting sniffio (from trio~=0.17->selenium)\n",
      "  Using cached sniffio-1.3.0-py3-none-any.whl (10 kB)\n",
      "Collecting cffi>=1.14 (from trio~=0.17->selenium)\n",
      "  Using cached cffi-1.15.1-cp39-cp39-win_amd64.whl (179 kB)\n",
      "Collecting exceptiongroup>=1.0.0rc9 (from trio~=0.17->selenium)\n",
      "  Using cached exceptiongroup-1.1.2-py3-none-any.whl (14 kB)\n",
      "Collecting wsproto>=0.14 (from trio-websocket~=0.9->selenium)\n",
      "  Using cached wsproto-1.2.0-py3-none-any.whl (24 kB)\n",
      "Collecting PySocks!=1.5.7,<2.0,>=1.5.6 (from urllib3[socks]<3,>=1.26->selenium)\n",
      "  Downloading PySocks-1.7.1-py3-none-any.whl (16 kB)\n",
      "Collecting pycparser (from cffi>=1.14->trio~=0.17->selenium)\n",
      "  Using cached pycparser-2.21-py2.py3-none-any.whl (118 kB)\n",
      "Collecting h11<1,>=0.9.0 (from wsproto>=0.14->trio-websocket~=0.9->selenium)\n",
      "  Using cached h11-0.14.0-py3-none-any.whl (58 kB)\n",
      "Installing collected packages: sortedcontainers, sniffio, PySocks, pycparser, h11, exceptiongroup, attrs, wsproto, outcome, cffi, trio, trio-websocket, selenium\n",
      "Successfully installed PySocks-1.7.1 attrs-23.1.0 cffi-1.15.1 exceptiongroup-1.1.2 h11-0.14.0 outcome-1.2.0 pycparser-2.21 selenium-4.10.0 sniffio-1.3.0 sortedcontainers-2.4.0 trio-0.22.1 trio-websocket-0.10.3 wsproto-1.2.0\n",
      "Note: you may need to restart the kernel to use updated packages.\n"
     ]
    },
    {
     "name": "stderr",
     "output_type": "stream",
     "text": [
      "WARNING: Ignoring invalid distribution -rotobuf (c:\\users\\lg\\appdata\\local\\programs\\python\\python39\\lib\\site-packages)\n",
      "WARNING: Ignoring invalid distribution -rotobuf (c:\\users\\lg\\appdata\\local\\programs\\python\\python39\\lib\\site-packages)\n"
     ]
    }
   ],
   "source": [
    "pip install selenium"
   ]
  },
  {
   "cell_type": "code",
   "execution_count": 5,
   "metadata": {},
   "outputs": [
    {
     "name": "stdout",
     "output_type": "stream",
     "text": [
      "Note: you may need to restart the kernel to use updated packages.\n",
      "Collecting webdriver_manager\n",
      "  Using cached webdriver_manager-3.8.6-py2.py3-none-any.whl (27 kB)\n",
      "Requirement already satisfied: requests in c:\\users\\lg\\appdata\\local\\programs\\python\\python39\\lib\\site-packages (from webdriver_manager) (2.31.0)\n",
      "Collecting python-dotenv (from webdriver_manager)\n",
      "  Using cached python_dotenv-1.0.0-py3-none-any.whl (19 kB)\n",
      "Requirement already satisfied: tqdm in c:\\users\\lg\\appdata\\local\\programs\\python\\python39\\lib\\site-packages (from webdriver_manager) (4.65.0)\n",
      "Requirement already satisfied: packaging in c:\\users\\lg\\appdata\\roaming\\python\\python39\\site-packages (from webdriver_manager) (23.0)\n",
      "Requirement already satisfied: charset-normalizer<4,>=2 in c:\\users\\lg\\appdata\\local\\programs\\python\\python39\\lib\\site-packages (from requests->webdriver_manager) (3.1.0)\n",
      "Requirement already satisfied: idna<4,>=2.5 in c:\\users\\lg\\appdata\\local\\programs\\python\\python39\\lib\\site-packages (from requests->webdriver_manager) (3.4)\n",
      "Requirement already satisfied: urllib3<3,>=1.21.1 in c:\\users\\lg\\appdata\\local\\programs\\python\\python39\\lib\\site-packages (from requests->webdriver_manager) (1.26.16)\n",
      "Requirement already satisfied: certifi>=2017.4.17 in c:\\users\\lg\\appdata\\local\\programs\\python\\python39\\lib\\site-packages (from requests->webdriver_manager) (2023.5.7)\n",
      "Requirement already satisfied: colorama in c:\\users\\lg\\appdata\\roaming\\python\\python39\\site-packages (from tqdm->webdriver_manager) (0.4.6)\n",
      "Installing collected packages: python-dotenv, webdriver_manager\n",
      "Successfully installed python-dotenv-1.0.0 webdriver_manager-3.8.6\n"
     ]
    },
    {
     "name": "stderr",
     "output_type": "stream",
     "text": [
      "WARNING: Ignoring invalid distribution -rotobuf (c:\\users\\lg\\appdata\\local\\programs\\python\\python39\\lib\\site-packages)\n",
      "WARNING: Ignoring invalid distribution -rotobuf (c:\\users\\lg\\appdata\\local\\programs\\python\\python39\\lib\\site-packages)\n",
      "  WARNING: The script dotenv.exe is installed in 'c:\\Users\\LG\\AppData\\Local\\Programs\\Python\\Python39\\Scripts' which is not on PATH.\n",
      "  Consider adding this directory to PATH or, if you prefer to suppress this warning, use --no-warn-script-location.\n"
     ]
    }
   ],
   "source": [
    "pip install webdriver_manager"
   ]
  },
  {
   "cell_type": "code",
   "execution_count": 16,
   "metadata": {},
   "outputs": [
    {
     "name": "stdout",
     "output_type": "stream",
     "text": [
      "Collecting service\n",
      "  Downloading service-0.6.0.tar.gz (12 kB)\n",
      "  Preparing metadata (setup.py): started\n",
      "  Preparing metadata (setup.py): finished with status 'done'\n",
      "Collecting pid>=2.2.3\n",
      "  Downloading pid-3.0.4-py2.py3-none-any.whl (11 kB)\n",
      "Collecting python-daemon>=2.1.2\n",
      "  Downloading python_daemon-3.0.1-py3-none-any.whl (31 kB)\n",
      "Collecting setproctitle>=1.1.10\n",
      "  Using cached setproctitle-1.3.2-cp39-cp39-win_amd64.whl (11 kB)\n",
      "Requirement already satisfied: psutil>=5.4.8 in c:\\users\\lg\\appdata\\roaming\\python\\python39\\site-packages (from pid>=2.2.3->service) (5.9.4)\n",
      "Collecting lockfile>=0.10\n",
      "  Downloading lockfile-0.12.2-py2.py3-none-any.whl (13 kB)\n",
      "Requirement already satisfied: setuptools>=62.4.0 in c:\\users\\lg\\anaconda3\\lib\\site-packages (from python-daemon>=2.1.2->service) (63.4.1)\n",
      "Requirement already satisfied: docutils in c:\\users\\lg\\anaconda3\\lib\\site-packages (from python-daemon>=2.1.2->service) (0.18.1)\n",
      "Building wheels for collected packages: service\n",
      "  Building wheel for service (setup.py): started\n",
      "  Building wheel for service (setup.py): finished with status 'done'\n",
      "  Created wheel for service: filename=service-0.6.0-py3-none-any.whl size=7391 sha256=36b74bfd6ee52c8615667741815333dc1f9d39105be7f141a656ffe20e60c712\n",
      "  Stored in directory: c:\\users\\lg\\appdata\\local\\pip\\cache\\wheels\\51\\93\\bb\\c2361261a209c909774df7d061ec4b577902d10282365e08b4\n",
      "Successfully built service\n",
      "Installing collected packages: lockfile, setproctitle, python-daemon, pid, service\n",
      "Successfully installed lockfile-0.12.2 pid-3.0.4 python-daemon-3.0.1 service-0.6.0 setproctitle-1.3.2\n",
      "Note: you may need to restart the kernel to use updated packages.\n"
     ]
    }
   ],
   "source": [
    "pip install service"
   ]
  },
  {
   "cell_type": "code",
   "execution_count": 18,
   "metadata": {},
   "outputs": [
    {
     "name": "stdout",
     "output_type": "stream",
     "text": [
      "Note: you may need to restart the kernel to use updated packages.\n"
     ]
    },
    {
     "name": "stderr",
     "output_type": "stream",
     "text": [
      "ERROR: Could not find a version that satisfies the requirement pwd (from versions: none)\n",
      "ERROR: No matching distribution found for pwd\n"
     ]
    }
   ],
   "source": [
    "pip install pwd"
   ]
  },
  {
   "cell_type": "code",
   "execution_count": 20,
   "metadata": {},
   "outputs": [
    {
     "ename": "ModuleNotFoundError",
     "evalue": "No module named 'pwd'",
     "output_type": "error",
     "traceback": [
      "\u001b[1;31m---------------------------------------------------------------------------\u001b[0m",
      "\u001b[1;31mModuleNotFoundError\u001b[0m                       Traceback (most recent call last)",
      "Cell \u001b[1;32mIn[20], line 6\u001b[0m\n\u001b[0;32m      4\u001b[0m \u001b[39mimport\u001b[39;00m \u001b[39mtime\u001b[39;00m\n\u001b[0;32m      5\u001b[0m \u001b[39mimport\u001b[39;00m \u001b[39mtensorflow\u001b[39;00m \u001b[39mas\u001b[39;00m \u001b[39mtf\u001b[39;00m\n\u001b[1;32m----> 6\u001b[0m \u001b[39mimport\u001b[39;00m \u001b[39mservice\u001b[39;00m\n\u001b[0;32m      7\u001b[0m \u001b[39mimport\u001b[39;00m \u001b[39mpwd\u001b[39;00m\n",
      "File \u001b[1;32mc:\\Users\\LG\\anaconda3\\lib\\site-packages\\service\\__init__.py:34\u001b[0m\n\u001b[0;32m     31\u001b[0m \u001b[39mimport\u001b[39;00m \u001b[39mthreading\u001b[39;00m\n\u001b[0;32m     32\u001b[0m \u001b[39mimport\u001b[39;00m \u001b[39mtime\u001b[39;00m\n\u001b[1;32m---> 34\u001b[0m \u001b[39mfrom\u001b[39;00m \u001b[39mdaemon\u001b[39;00m \u001b[39mimport\u001b[39;00m DaemonContext\n\u001b[0;32m     35\u001b[0m \u001b[39mfrom\u001b[39;00m \u001b[39mpid\u001b[39;00m \u001b[39mimport\u001b[39;00m PidFile\n\u001b[0;32m     36\u001b[0m \u001b[39mimport\u001b[39;00m \u001b[39msetproctitle\u001b[39;00m\n",
      "File \u001b[1;32mc:\\Users\\LG\\anaconda3\\lib\\site-packages\\daemon\\__init__.py:33\u001b[0m\n\u001b[0;32m      1\u001b[0m \u001b[39m# daemon/__init__.py\u001b[39;00m\n\u001b[0;32m      2\u001b[0m \u001b[39m# Part of ‘python-daemon’, an implementation of PEP 3143.\u001b[39;00m\n\u001b[0;32m      3\u001b[0m \u001b[39m#\u001b[39;00m\n\u001b[0;32m      4\u001b[0m \u001b[39m# This is free software, and you are welcome to redistribute it under\u001b[39;00m\n\u001b[0;32m      5\u001b[0m \u001b[39m# certain conditions; see the end of this file for copyright\u001b[39;00m\n\u001b[0;32m      6\u001b[0m \u001b[39m# information, grant of license, and disclaimer of warranty.\u001b[39;00m\n\u001b[0;32m      8\u001b[0m \u001b[39m\"\"\" Library to implement a well-behaved Unix daemon process.\u001b[39;00m\n\u001b[0;32m      9\u001b[0m \n\u001b[0;32m     10\u001b[0m \u001b[39m    This library implements the well-behaved daemon specification of\u001b[39;00m\n\u001b[1;32m   (...)\u001b[0m\n\u001b[0;32m     30\u001b[0m \u001b[39m    documentation for that class for each option.\u001b[39;00m\n\u001b[0;32m     31\u001b[0m \u001b[39m    \"\"\"\u001b[39;00m\n\u001b[1;32m---> 33\u001b[0m \u001b[39mfrom\u001b[39;00m \u001b[39m.\u001b[39;00m\u001b[39mdaemon\u001b[39;00m \u001b[39mimport\u001b[39;00m DaemonContext\n\u001b[0;32m     36\u001b[0m __all__ \u001b[39m=\u001b[39m [\u001b[39m'\u001b[39m\u001b[39mDaemonContext\u001b[39m\u001b[39m'\u001b[39m]\n\u001b[0;32m     39\u001b[0m \n\u001b[0;32m     40\u001b[0m \u001b[39m# Copyright © 2009–2023 Ben Finney <ben+python@benfinney.id.au>\u001b[39;00m\n\u001b[0;32m     41\u001b[0m \u001b[39m# Copyright © 2006 Robert Niederreiter\u001b[39;00m\n\u001b[1;32m   (...)\u001b[0m\n\u001b[0;32m     51\u001b[0m \u001b[39m# coding: utf-8\u001b[39;00m\n\u001b[0;32m     52\u001b[0m \u001b[39m# mode: python\u001b[39;00m\n",
      "File \u001b[1;32mc:\\Users\\LG\\anaconda3\\lib\\site-packages\\daemon\\daemon.py:13\u001b[0m\n\u001b[0;32m     11\u001b[0m \u001b[39mimport\u001b[39;00m \u001b[39merrno\u001b[39;00m\n\u001b[0;32m     12\u001b[0m \u001b[39mimport\u001b[39;00m \u001b[39mos\u001b[39;00m\n\u001b[1;32m---> 13\u001b[0m \u001b[39mimport\u001b[39;00m \u001b[39mpwd\u001b[39;00m\n\u001b[0;32m     14\u001b[0m \u001b[39mimport\u001b[39;00m \u001b[39mresource\u001b[39;00m\n\u001b[0;32m     15\u001b[0m \u001b[39mimport\u001b[39;00m \u001b[39msignal\u001b[39;00m\n",
      "\u001b[1;31mModuleNotFoundError\u001b[0m: No module named 'pwd'"
     ]
    }
   ],
   "source": [
    "from bs4 import BeautifulSoup\n",
    "from selenium import webdriver\n",
    "from webdriver_manager.chrome import ChromeDriverManager\n",
    "import time\n",
    "import tensorflow as tf\n",
    "import service\n",
    "import pwd"
   ]
  },
  {
   "cell_type": "markdown",
   "metadata": {},
   "source": [
    "### GPU 설정"
   ]
  },
  {
   "cell_type": "code",
   "execution_count": 2,
   "metadata": {},
   "outputs": [
    {
     "name": "stdout",
     "output_type": "stream",
     "text": [
      "Found GPU at: /device:GPU:0\n"
     ]
    }
   ],
   "source": [
    "device_name = tf.test.gpu_device_name()\n",
    "if device_name != '/device:GPU:0' : \n",
    "    raise SystemError('GPU device not found')\n",
    "print(f'Found GPU at: {device_name}')"
   ]
  },
  {
   "cell_type": "code",
   "execution_count": 3,
   "metadata": {},
   "outputs": [
    {
     "name": "stdout",
     "output_type": "stream",
     "text": [
      "[name: \"/device:CPU:0\"\n",
      "device_type: \"CPU\"\n",
      "memory_limit: 268435456\n",
      "locality {\n",
      "}\n",
      "incarnation: 10707635443744474572\n",
      "xla_global_id: -1\n",
      ", name: \"/device:GPU:0\"\n",
      "device_type: \"GPU\"\n",
      "memory_limit: 2258003559\n",
      "locality {\n",
      "  bus_id: 1\n",
      "  links {\n",
      "  }\n",
      "}\n",
      "incarnation: 5110670081548621649\n",
      "physical_device_desc: \"device: 0, name: NVIDIA GeForce GTX 1650 Ti, pci bus id: 0000:01:00.0, compute capability: 7.5\"\n",
      "xla_global_id: 416903419\n",
      "]\n"
     ]
    }
   ],
   "source": [
    "from tensorflow.python.client import device_lib\n",
    "\n",
    "print(device_lib.list_local_devices())"
   ]
  },
  {
   "cell_type": "markdown",
   "metadata": {},
   "source": [
    "### 검색어를 입력 후 자동 검색하기 기능 구현하기"
   ]
  },
  {
   "cell_type": "code",
   "execution_count": 14,
   "metadata": {},
   "outputs": [
    {
     "ename": "NameError",
     "evalue": "name 'Service' is not defined",
     "output_type": "error",
     "traceback": [
      "\u001b[1;31m---------------------------------------------------------------------------\u001b[0m",
      "\u001b[1;31mNameError\u001b[0m                                 Traceback (most recent call last)",
      "Cell \u001b[1;32mIn[14], line 6\u001b[0m\n\u001b[0;32m      2\u001b[0m query_txt \u001b[39m=\u001b[39m \u001b[39minput\u001b[39m(\u001b[39m'\u001b[39m\u001b[39m크롤링할 키워드는 무엇입니까?\u001b[39m\u001b[39m'\u001b[39m)\n\u001b[0;32m      4\u001b[0m \u001b[39m# 1단계: 크롬 드라이버를 사용해서 웹 브라우저를 시행하기\u001b[39;00m\n\u001b[0;32m      5\u001b[0m \u001b[39m# path = \"C:/Users/LG/OneDrive/Documents/crawling/chromedriver.exe\"\u001b[39;00m\n\u001b[1;32m----> 6\u001b[0m path \u001b[39m=\u001b[39m Service(\u001b[39m\"\u001b[39m\u001b[39mC:/Users/LG/OneDrive/Documents/crawling/chromedriver.exe\u001b[39m\u001b[39m\"\u001b[39m)\n\u001b[0;32m      7\u001b[0m driver \u001b[39m=\u001b[39m webdriver\u001b[39m.\u001b[39mChrome(path)\n\u001b[0;32m      8\u001b[0m \u001b[39m# driver = webdriver.Chrome(ChromeDriverManager().install())\u001b[39;00m\n",
      "\u001b[1;31mNameError\u001b[0m: name 'Service' is not defined"
     ]
    }
   ],
   "source": [
    "# 0단계: 검색어 입력받기\n",
    "query_txt = input('크롤링할 키워드는 무엇입니까?')\n",
    "\n",
    "# 1단계: 크롬 드라이버를 사용해서 웹 브라우저를 시행하기\n",
    "# path = \"C:/Users/LG/OneDrive/Documents/crawling/chromedriver.exe\"\n",
    "path = Service(\"C:/Users/LG/OneDrive/Documents/crawling/chromedriver.exe\")\n",
    "driver = webdriver.Chrome(path)\n",
    "# driver = webdriver.Chrome(ChromeDriverManager().install())\n",
    "\n",
    "driver.get(\"https://korean.visitkorea.or.kr\")\n",
    "time.sleep(2)"
   ]
  },
  {
   "cell_type": "code",
   "execution_count": 12,
   "metadata": {},
   "outputs": [],
   "source": [
    "# 2단계: 검색창의 이름을 찾아서 검색어를 입력하기\n"
   ]
  }
 ],
 "metadata": {
  "kernelspec": {
   "display_name": "base",
   "language": "python",
   "name": "python3"
  },
  "language_info": {
   "codemirror_mode": {
    "name": "ipython",
    "version": 3
   },
   "file_extension": ".py",
   "mimetype": "text/x-python",
   "name": "python",
   "nbconvert_exporter": "python",
   "pygments_lexer": "ipython3",
   "version": "3.9.13"
  },
  "orig_nbformat": 4
 },
 "nbformat": 4,
 "nbformat_minor": 2
}
