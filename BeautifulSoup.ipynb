{
 "cells": [
  {
   "cell_type": "markdown",
   "metadata": {},
   "source": [
    "### find() 함수\n",
    "- 조건을 만족하는 태그를 하나만 가져온다."
   ]
  },
  {
   "cell_type": "code",
   "execution_count": 1,
   "metadata": {},
   "outputs": [],
   "source": [
    "# 라이브러리 설정\n",
    "from bs4 import BeautifulSoup"
   ]
  },
  {
   "cell_type": "code",
   "execution_count": 2,
   "metadata": {},
   "outputs": [
    {
     "data": {
      "text/plain": [
       "<title>HTML 연습</title>"
      ]
     },
     "execution_count": 2,
     "metadata": {},
     "output_type": "execute_result"
    }
   ],
   "source": [
    "# 예제1\n",
    "ex1 = '''\n",
    "<html>\n",
    "    <head>\n",
    "        <title>HTML 연습</title>\n",
    "    </head>\n",
    "    <body>\n",
    "        <p align='center'> text 1 </p>\n",
    "        <img src=\"c:\\\\temp\\\\image\\\\솔개.png\">\n",
    "    </body>\n",
    "</html>'''\n",
    "\n",
    "soup = BeautifulSoup(ex1, 'html.parser')\n",
    "soup.find('title')\n"
   ]
  },
  {
   "cell_type": "code",
   "execution_count": 3,
   "metadata": {},
   "outputs": [
    {
     "data": {
      "text/plain": [
       "<p align=\"center\">text 1 </p>"
      ]
     },
     "execution_count": 3,
     "metadata": {},
     "output_type": "execute_result"
    }
   ],
   "source": [
    "# p태그 찾아보기\n",
    "soup.find('p')"
   ]
  },
  {
   "cell_type": "code",
   "execution_count": 10,
   "metadata": {},
   "outputs": [
    {
     "data": {
      "text/plain": [
       "<p align=\"center\"> text 1 </p>"
      ]
     },
     "execution_count": 10,
     "metadata": {},
     "output_type": "execute_result"
    }
   ],
   "source": [
    "# 예제 2\n",
    "ex1 = '''\n",
    "<html>\n",
    "    <head>\n",
    "        <title>HTML 연습</title>\n",
    "    </head>\n",
    "    <body>\n",
    "        <p align='center'> text 1 </p>\n",
    "        <p align='right'> text 2 </p>\n",
    "        <p align='left'> text 3 </p>\n",
    "        <img src=\"c:\\\\temp\\\\image\\\\솔개.png\">\n",
    "    </body>\n",
    "</html>'''\n",
    "\n",
    "soup = BeautifulSoup(ex1, 'html.parser')\n",
    "soup.find('p')"
   ]
  },
  {
   "cell_type": "markdown",
   "metadata": {},
   "source": [
    "#### 속성 지정해서 조회해보기"
   ]
  },
  {
   "cell_type": "code",
   "execution_count": 5,
   "metadata": {},
   "outputs": [
    {
     "data": {
      "text/plain": [
       "<p align=\"center\"> text 1 </p>"
      ]
     },
     "execution_count": 5,
     "metadata": {},
     "output_type": "execute_result"
    }
   ],
   "source": [
    "soup.find('p', align='center')"
   ]
  },
  {
   "cell_type": "code",
   "execution_count": 6,
   "metadata": {},
   "outputs": [
    {
     "data": {
      "text/plain": [
       "<p align=\"right\"> text 2 </p>"
      ]
     },
     "execution_count": 6,
     "metadata": {},
     "output_type": "execute_result"
    }
   ],
   "source": [
    "soup.find('p', align='right')"
   ]
  },
  {
   "cell_type": "code",
   "execution_count": 11,
   "metadata": {},
   "outputs": [
    {
     "data": {
      "text/plain": [
       "<p align=\"left\"> text 3 </p>"
      ]
     },
     "execution_count": 11,
     "metadata": {},
     "output_type": "execute_result"
    }
   ],
   "source": [
    "soup.find('p', align='left')"
   ]
  },
  {
   "cell_type": "markdown",
   "metadata": {},
   "source": [
    "### find_all() 함수\n",
    "- 해당 태그가 여러 개 있을 때 한꺼번에 모두 가져옴"
   ]
  },
  {
   "cell_type": "code",
   "execution_count": 12,
   "metadata": {},
   "outputs": [],
   "source": [
    "ex1 = '''\n",
    "<html>\n",
    "    <head>\n",
    "        <title>HTML 연습</title>\n",
    "    </head>\n",
    "    <body>\n",
    "        <p align='center'> text 1 </p>\n",
    "        <p align='center'> text 2 </p>\n",
    "        <p align='center'> text 3 </p>\n",
    "        <img src=\"c:\\\\temp\\\\image\\\\솔개.png\">\n",
    "    </body>\n",
    "</html>'''"
   ]
  },
  {
   "cell_type": "code",
   "execution_count": 13,
   "metadata": {},
   "outputs": [
    {
     "data": {
      "text/plain": [
       "[<p align=\"center\"> text 1 </p>,\n",
       " <p align=\"right\"> text 2 </p>,\n",
       " <p align=\"left\"> text 3 </p>]"
      ]
     },
     "execution_count": 13,
     "metadata": {},
     "output_type": "execute_result"
    }
   ],
   "source": [
    "soup.find_all('p')"
   ]
  },
  {
   "cell_type": "code",
   "execution_count": 14,
   "metadata": {},
   "outputs": [
    {
     "data": {
      "text/plain": [
       "[<p align=\"center\"> text 1 </p>,\n",
       " <p align=\"right\"> text 2 </p>,\n",
       " <p align=\"left\"> text 3 </p>,\n",
       " <img src=\"c:\\temp\\image\\솔개.png\"/>]"
      ]
     },
     "execution_count": 14,
     "metadata": {},
     "output_type": "execute_result"
    }
   ],
   "source": [
    "# 여러 태그 동시에 찾기\n",
    "soup.find_all(['p', 'img'])"
   ]
  },
  {
   "cell_type": "markdown",
   "metadata": {},
   "source": [
    "### 문장 가져오기"
   ]
  },
  {
   "cell_type": "code",
   "execution_count": 17,
   "metadata": {},
   "outputs": [
    {
     "data": {
      "text/plain": [
       "' text 1 '"
      ]
     },
     "execution_count": 17,
     "metadata": {},
     "output_type": "execute_result"
    }
   ],
   "source": [
    "txt = soup.find('p')\n",
    "txt.string"
   ]
  },
  {
   "cell_type": "code",
   "execution_count": 18,
   "metadata": {},
   "outputs": [
    {
     "name": "stdout",
     "output_type": "stream",
     "text": [
      " text 1 \n",
      " text 2 \n",
      " text 3 \n"
     ]
    }
   ],
   "source": [
    "# 여러 문장 한꺼번에 가져오기\n",
    "txt2 = soup.find_all('p')\n",
    "for i in txt2 : \n",
    "    print(i.string)"
   ]
  },
  {
   "cell_type": "code",
   "execution_count": 19,
   "metadata": {},
   "outputs": [
    {
     "name": "stdout",
     "output_type": "stream",
     "text": [
      " text 1 \n",
      " text 2 \n",
      " text 3 \n"
     ]
    }
   ],
   "source": [
    "txt3 = soup.find_all('p')\n",
    "for i in txt3 : \n",
    "    print(i.get_text())"
   ]
  },
  {
   "cell_type": "markdown",
   "metadata": {},
   "source": [
    "### select()를 활용하여 원하는 데이터 추출하기"
   ]
  },
  {
   "cell_type": "code",
   "execution_count": 21,
   "metadata": {},
   "outputs": [],
   "source": [
    "ex2 = '''\n",
    "<html>\n",
    "    <head>\n",
    "        <h1> 사야 할 과일 </h1>\n",
    "    </head>\n",
    "    <body>\n",
    "        <h1> 시장가서 사야 할 과일 목록 </h1>\n",
    "           <div> <p id='fruits1' class='name1' title='바나나'> 바나나\n",
    "                 <span class='price'> 3000원 </span>\n",
    "                 <span class='count'> 10개 </span>\n",
    "                 <span class='store'> 바나나가게 </span>\n",
    "                 <a href='https://www.banana.com'> banana.com </a>\n",
    "                 </p>\n",
    "           </div>\n",
    "           <div> <p id='fruits2' class='name2' title='체리'> 체리\n",
    "                 <span class='price'> 100원 </span>\n",
    "                 <span class='count'> 50개 </span>\n",
    "                 <span class='store'> 체리가게 </span>\n",
    "                 <a href='https://www.cherry.com'> cherry.com </a>\n",
    "                 </p>\n",
    "           </div>\n",
    "           <div> <p id='fruits3' class='name3' title='오렌지'> 오렌지\n",
    "                 <span class='price'> 500원 </span>\n",
    "                 <span class='count'> 20개 </span>\n",
    "                 <span class='store'> 오렌지가게 </span>\n",
    "                 <a href='https://www.orange.com'> orange.com </a>\n",
    "                 </p>\n",
    "           </div>\n",
    "    </body>\n",
    "</html>'''\n",
    "\n",
    "soup2 = BeautifulSoup(ex2, 'html.parser')"
   ]
  },
  {
   "cell_type": "code",
   "execution_count": 22,
   "metadata": {},
   "outputs": [
    {
     "data": {
      "text/plain": [
       "[<p class=\"name1\" id=\"fruits1\" title=\"바나나\"> 바나나\n",
       "                  <span class=\"price\"> 3000원 </span>\n",
       " <span class=\"count\"> 10개 </span>\n",
       " <span class=\"store\"> 바나나가게 </span>\n",
       " <a href=\"https://www.banana.com\"> banana.com </a>\n",
       " </p>,\n",
       " <p class=\"name2\" id=\"fruits2\" title=\"체리\"> 체리\n",
       "                  <span class=\"price\"> 100원 </span>\n",
       " <span class=\"count\"> 50개 </span>\n",
       " <span class=\"store\"> 체리가게 </span>\n",
       " <a href=\"https://www.cherry.com\"> cherry.com </a>\n",
       " </p>,\n",
       " <p class=\"name3\" id=\"fruits3\" title=\"오렌지\"> 오렌지\n",
       "                  <span class=\"price\"> 500원 </span>\n",
       " <span class=\"count\"> 20개 </span>\n",
       " <span class=\"store\"> 오렌지가게 </span>\n",
       " <a href=\"https://www.orange.com\"> orange.com </a>\n",
       " </p>]"
      ]
     },
     "execution_count": 22,
     "metadata": {},
     "output_type": "execute_result"
    }
   ],
   "source": [
    "soup2.select('p')"
   ]
  },
  {
   "cell_type": "code",
   "execution_count": 25,
   "metadata": {},
   "outputs": [
    {
     "data": {
      "text/plain": [
       "[<p class=\"name1\" id=\"fruits1\" title=\"바나나\"> 바나나\n",
       "                  <span class=\"price\"> 3000원 </span>\n",
       " <span class=\"count\"> 10개 </span>\n",
       " <span class=\"store\"> 바나나가게 </span>\n",
       " <a href=\"https://www.banana.com\"> banana.com </a>\n",
       " </p>]"
      ]
     },
     "execution_count": 25,
     "metadata": {},
     "output_type": "execute_result"
    }
   ],
   "source": [
    "# select(' .클래스명')\n",
    "soup2.select(' .name1')"
   ]
  },
  {
   "cell_type": "code",
   "execution_count": 28,
   "metadata": {},
   "outputs": [
    {
     "data": {
      "text/plain": [
       "[<span class=\"price\"> 3000원 </span>,\n",
       " <span class=\"count\"> 10개 </span>,\n",
       " <span class=\"store\"> 바나나가게 </span>,\n",
       " <span class=\"price\"> 100원 </span>,\n",
       " <span class=\"count\"> 50개 </span>,\n",
       " <span class=\"store\"> 체리가게 </span>,\n",
       " <span class=\"price\"> 500원 </span>,\n",
       " <span class=\"count\"> 20개 </span>,\n",
       " <span class=\"store\"> 오렌지가게 </span>]"
      ]
     },
     "execution_count": 28,
     "metadata": {},
     "output_type": "execute_result"
    }
   ],
   "source": [
    "# select(' 상위태그 > 하위태그 > 하위태그 ')\n",
    "# 부등호 앞뒤로 공백이 들어가야 함\n",
    "soup2.select(' div > p > span ')"
   ]
  },
  {
   "cell_type": "code",
   "execution_count": 34,
   "metadata": {},
   "outputs": [
    {
     "data": {
      "text/plain": [
       "<span class=\"price\"> 3000원 </span>"
      ]
     },
     "execution_count": 34,
     "metadata": {},
     "output_type": "execute_result"
    }
   ],
   "source": [
    "# 인덱싱 기능 활용\n",
    "soup2.select(' div > p > span')[0]"
   ]
  },
  {
   "cell_type": "code",
   "execution_count": 35,
   "metadata": {},
   "outputs": [
    {
     "data": {
      "text/plain": [
       "<span class=\"count\"> 10개 </span>"
      ]
     },
     "execution_count": 35,
     "metadata": {},
     "output_type": "execute_result"
    }
   ],
   "source": [
    "soup2.select(' div > p > span')[1]"
   ]
  },
  {
   "cell_type": "code",
   "execution_count": 36,
   "metadata": {},
   "outputs": [
    {
     "data": {
      "text/plain": [
       "<span class=\"store\"> 바나나가게 </span>"
      ]
     },
     "execution_count": 36,
     "metadata": {},
     "output_type": "execute_result"
    }
   ],
   "source": [
    "soup2.select(' div > p > span')[2]"
   ]
  },
  {
   "cell_type": "code",
   "execution_count": 32,
   "metadata": {},
   "outputs": [
    {
     "data": {
      "text/plain": [
       "[<span class=\"store\"> 바나나가게 </span>]"
      ]
     },
     "execution_count": 32,
     "metadata": {},
     "output_type": "execute_result"
    }
   ],
   "source": [
    "# select('상위태그.클래스이름 > 하위태그.클래스이름')\n",
    "soup2.select('p.name1 > span.store')"
   ]
  },
  {
   "cell_type": "code",
   "execution_count": 33,
   "metadata": {},
   "outputs": [
    {
     "data": {
      "text/plain": [
       "[<p class=\"name1\" id=\"fruits1\" title=\"바나나\"> 바나나\n",
       "                  <span class=\"price\"> 3000원 </span>\n",
       " <span class=\"count\"> 10개 </span>\n",
       " <span class=\"store\"> 바나나가게 </span>\n",
       " <a href=\"https://www.banana.com\"> banana.com </a>\n",
       " </p>]"
      ]
     },
     "execution_count": 33,
     "metadata": {},
     "output_type": "execute_result"
    }
   ],
   "source": [
    "# select('#아이디명')\n",
    "soup2.select('#fruits1')"
   ]
  },
  {
   "cell_type": "code",
   "execution_count": 38,
   "metadata": {},
   "outputs": [
    {
     "data": {
      "text/plain": [
       "[<span class=\"store\"> 바나나가게 </span>]"
      ]
     },
     "execution_count": 38,
     "metadata": {},
     "output_type": "execute_result"
    }
   ],
   "source": [
    "# select( '#아이디명 > 태그명.클래스명')\n",
    "soup2.select(' #fruits1 > span.store')"
   ]
  },
  {
   "cell_type": "code",
   "execution_count": 41,
   "metadata": {},
   "outputs": [
    {
     "data": {
      "text/plain": [
       "<a href=\"https://www.banana.com\"> banana.com </a>"
      ]
     },
     "execution_count": 41,
     "metadata": {},
     "output_type": "execute_result"
    }
   ],
   "source": [
    "# select('태그명[속성]')\n",
    "soup2.select('a[href]')[0]"
   ]
  },
  {
   "cell_type": "markdown",
   "metadata": {},
   "source": [
    "### 연습문제 풀이"
   ]
  },
  {
   "cell_type": "markdown",
   "metadata": {},
   "source": [
    "#### 데이터 불러오기"
   ]
  },
  {
   "cell_type": "code",
   "execution_count": 46,
   "metadata": {},
   "outputs": [],
   "source": [
    "with open('./data/bs연습문제.html', encoding='cp949') as ex : \n",
    "    soup = BeautifulSoup(ex, 'html.parser')"
   ]
  },
  {
   "cell_type": "markdown",
   "metadata": {},
   "source": [
    "### img 태그만 모두 추출하기\n"
   ]
  },
  {
   "cell_type": "code",
   "execution_count": 49,
   "metadata": {},
   "outputs": [],
   "source": [
    "img_src = soup.find('div', 'flex_grid credits search_results').find_all('img')"
   ]
  },
  {
   "cell_type": "code",
   "execution_count": 50,
   "metadata": {},
   "outputs": [
    {
     "name": "stdout",
     "output_type": "stream",
     "text": [
      "100\n"
     ]
    }
   ],
   "source": [
    "print(len(img_src))"
   ]
  },
  {
   "cell_type": "markdown",
   "metadata": {},
   "source": [
    "### 연도별 img태그 저장하는 코드 구현하기"
   ]
  },
  {
   "cell_type": "code",
   "execution_count": 61,
   "metadata": {},
   "outputs": [],
   "source": [
    "img_src_2017 = []\n",
    "img_src_2018 = []\n",
    "\n",
    "for c in img_src : \n",
    "    img_src1 = c['src']\n",
    "    # print(img_src1)\n",
    "    if '2017' in img_src1 : \n",
    "        img_src_2017.append(img_src1)\n",
    "    elif '2018' in img_src1 : \n",
    "        img_src_2018.append(img_src1)"
   ]
  },
  {
   "cell_type": "code",
   "execution_count": 62,
   "metadata": {},
   "outputs": [
    {
     "name": "stdout",
     "output_type": "stream",
     "text": [
      "2017년 데이터는 총 20건 입니다.\n",
      "https://cdn.pixabay.com/photo/2017/02/20/18/03/cat-2083492__340.jpg\n",
      "https://cdn.pixabay.com/photo/2017/11/14/13/06/kitty-2948404__340.jpg\n",
      "https://cdn.pixabay.com/photo/2017/07/24/19/57/tiger-2535888__340.jpg\n",
      "https://cdn.pixabay.com/photo/2017/11/06/09/53/animal-2923186__340.jpg\n",
      "https://cdn.pixabay.com/photo/2017/07/25/01/22/cat-2536662__340.jpg\n",
      "https://cdn.pixabay.com/photo/2017/05/17/12/42/tiger-2320819__340.jpg\n",
      "https://cdn.pixabay.com/photo/2017/11/09/21/41/cat-2934720__340.jpg\n",
      "https://cdn.pixabay.com/photo/2017/12/09/21/33/sunset-3008779__340.jpg\n",
      "https://cdn.pixabay.com/photo/2017/03/14/14/49/cat-2143332__340.jpg\n",
      "https://cdn.pixabay.com/photo/2017/08/23/08/33/cats-eyes-2671903__340.jpg\n",
      "https://cdn.pixabay.com/photo/2017/12/11/15/34/lion-3012515__340.jpg\n",
      "https://cdn.pixabay.com/photo/2017/04/30/18/33/cat-2273598__340.jpg\n",
      "https://cdn.pixabay.com/photo/2017/11/13/07/14/cat-eyes-2944820__340.jpg\n",
      "https://cdn.pixabay.com/photo/2017/10/30/19/41/puma-2903312__340.jpg\n",
      "https://cdn.pixabay.com/photo/2017/01/12/21/42/amurtiger-1975790__340.jpg\n",
      "https://cdn.pixabay.com/photo/2017/01/16/23/10/snow-leopard-1985510__340.jpg\n",
      "https://cdn.pixabay.com/photo/2017/08/07/18/57/dog-2606759__340.jpg\n",
      "https://cdn.pixabay.com/photo/2017/02/15/12/12/cat-2068462__340.jpg\n",
      "https://cdn.pixabay.com/photo/2017/03/29/09/59/cat-2184682__340.jpg\n",
      "https://cdn.pixabay.com/photo/2017/11/22/08/07/cat-2969932__340.jpg\n"
     ]
    }
   ],
   "source": [
    "# 2017년 목록\n",
    "print('2017년 데이터는 총 %s건 입니다.' % len(img_src_2017))\n",
    "for i in img_src_2017 : \n",
    "    print(i)"
   ]
  },
  {
   "cell_type": "code",
   "execution_count": 63,
   "metadata": {},
   "outputs": [
    {
     "name": "stdout",
     "output_type": "stream",
     "text": [
      "2018년 데이터는 총 18건 입니다.\n",
      "https://cdn.pixabay.com/photo/2018/07/31/22/08/lion-3576045__340.jpg\n",
      "https://cdn.pixabay.com/photo/2018/03/26/20/49/tiger-3264048__340.jpg\n",
      "https://cdn.pixabay.com/photo/2018/01/25/14/12/nature-3106213__340.jpg\n",
      "https://cdn.pixabay.com/photo/2018/01/28/12/37/cat-3113513__340.jpg\n",
      "https://cdn.pixabay.com/photo/2018/05/04/16/50/cat-3374422__340.jpg\n",
      "https://cdn.pixabay.com/photo/2018/04/13/21/24/lion-3317670__340.jpg\n",
      "https://cdn.pixabay.com/photo/2018/07/08/14/16/cat-3523992__340.jpg\n",
      "https://cdn.pixabay.com/photo/2018/01/04/18/58/cats-3061372__340.jpg\n",
      "https://cdn.pixabay.com/photo/2018/11/29/23/34/cat-3846780__340.jpg\n",
      "https://cdn.pixabay.com/photo/2018/07/13/10/20/cat-3535404__340.jpg\n",
      "https://cdn.pixabay.com/photo/2018/05/03/22/34/lion-3372720__340.jpg\n",
      "https://cdn.pixabay.com/photo/2018/06/03/08/57/cat-3449999__340.jpg\n",
      "https://cdn.pixabay.com/photo/2018/03/27/17/25/cat-3266673__340.jpg\n",
      "https://cdn.pixabay.com/photo/2018/03/26/02/05/cat-3261420__340.jpg\n",
      "https://cdn.pixabay.com/photo/2018/04/20/17/18/cat-3336579__340.jpg\n",
      "https://cdn.pixabay.com/photo/2018/01/11/23/16/woman-3077180__340.jpg\n",
      "https://cdn.pixabay.com/photo/2018/05/30/19/29/cat-3442257__340.jpg\n",
      "https://cdn.pixabay.com/photo/2018/07/31/11/14/lion-3574819__340.jpg\n"
     ]
    }
   ],
   "source": [
    "# 2018년 목록\n",
    "print('2018년 데이터는 총 %s건 입니다.' % len(img_src_2018))\n",
    "for i in img_src_2018 : \n",
    "    print(i)"
   ]
  }
 ],
 "metadata": {
  "kernelspec": {
   "display_name": "base",
   "language": "python",
   "name": "python3"
  },
  "language_info": {
   "codemirror_mode": {
    "name": "ipython",
    "version": 3
   },
   "file_extension": ".py",
   "mimetype": "text/x-python",
   "name": "python",
   "nbconvert_exporter": "python",
   "pygments_lexer": "ipython3",
   "version": "3.9.13"
  },
  "orig_nbformat": 4
 },
 "nbformat": 4,
 "nbformat_minor": 2
}
